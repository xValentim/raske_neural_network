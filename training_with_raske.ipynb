{
 "cells": [
  {
   "cell_type": "code",
   "execution_count": 1,
   "metadata": {},
   "outputs": [],
   "source": [
    "from tensorflow import keras"
   ]
  },
  {
   "cell_type": "code",
   "execution_count": 21,
   "metadata": {},
   "outputs": [
    {
     "name": "stdout",
     "output_type": "stream",
     "text": [
      "Overwriting neural_network_1.raske\n"
     ]
    }
   ],
   "source": [
    "%%writefile neural_network_1.raske\n",
    "neural_network{\n",
    "    add_input_layer(2)\n",
    "    add_dense_layer(64, linear)\n",
    "    add_dense_layer(2, softmax)\n",
    "}"
   ]
  },
  {
   "cell_type": "code",
   "execution_count": 48,
   "metadata": {},
   "outputs": [
    {
     "name": "stdout",
     "output_type": "stream",
     "text": [
      "Overwriting neural_network_2.raske\n"
     ]
    }
   ],
   "source": [
    "%%writefile neural_network_2.raske\n",
    "neural_network{\n",
    "    add_input_layer(2)\n",
    "    local i = 0\n",
    "    while (i < 5){\n",
    "        add_dense_layer(64, linear)\n",
    "        i = i + 1\n",
    "    }\n",
    "    add_dense_layer(1, sigmoid)\n",
    "}"
   ]
  },
  {
   "cell_type": "code",
   "execution_count": 21,
   "metadata": {},
   "outputs": [
    {
     "name": "stdout",
     "output_type": "stream",
     "text": [
      "Overwriting neural_network_3.raske\n"
     ]
    }
   ],
   "source": [
    "%%writefile neural_network_3.raske\n",
    "neural_network{\n",
    "    add_input_layer(28, 28)\n",
    "    local i = 0\n",
    "    while (i < 4) {\n",
    "        add_conv_layer(4, 4, 1, linear)\n",
    "        i = i + 1\n",
    "    }\n",
    "    add_flatten_layer()\n",
    "    add_dense_layer(64, linear)\n",
    "    add_dense_layer(2, softmax)\n",
    "}"
   ]
  },
  {
   "cell_type": "code",
   "execution_count": 10,
   "metadata": {},
   "outputs": [
    {
     "name": "stdout",
     "output_type": "stream",
     "text": [
      "Overwriting neural_network_4.raske\n"
     ]
    }
   ],
   "source": [
    "%%writefile neural_network_4.raske\n",
    "neural_network{\n",
    "    add_input_layer(128, 128)\n",
    "    local i = 0\n",
    "    while (i < 3){\n",
    "        add_conv_layer(4, 4, 1, linear)\n",
    "        add_maxpooling_layer(2)\n",
    "        add_batch_normalization_layer()\n",
    "        i = i + 1\n",
    "    }\n",
    "    add_flatten_layer()\n",
    "    add_dropout_layer(50)\n",
    "    add_dense_layer(64, linear)\n",
    "    add_dense_layer(2, softmax)\n",
    "}"
   ]
  },
  {
   "cell_type": "code",
   "execution_count": 11,
   "metadata": {},
   "outputs": [
    {
     "name": "stdout",
     "output_type": "stream",
     "text": [
      "Overwriting neural_network_5.raske\n"
     ]
    }
   ],
   "source": [
    "%%writefile neural_network_5.raske\n",
    "neural_network{\n",
    "    add_input_layer(128, 128)\n",
    "    local i = 0\n",
    "    while (i < 5){\n",
    "        if (i < 2){\n",
    "            add_conv_layer(4, 4, 1, linear)\n",
    "        } else {\n",
    "            add_conv_layer(2, 2, 1, linear)\n",
    "        }\n",
    "        add_maxpooling_layer(2)\n",
    "        add_batch_normalization_layer()\n",
    "        i = i + 1\n",
    "    }\n",
    "    add_flatten_layer()\n",
    "    add_dropout_layer(50)\n",
    "    add_dense_layer(64, linear)\n",
    "    add_dense_layer(2, softmax)\n",
    "}"
   ]
  },
  {
   "cell_type": "code",
   "execution_count": 12,
   "metadata": {},
   "outputs": [
    {
     "name": "stdout",
     "output_type": "stream",
     "text": [
      "add_input_layer with input shape:  [2]\n",
      "add_dense_layer with 64 neurons and activation linear\n",
      "add_dense_layer with 2 neurons and activation softmax\n"
     ]
    },
    {
     "name": "stderr",
     "output_type": "stream",
     "text": [
      "WARNING:tensorflow:Compiled the loaded model, but the compiled metrics have yet to be built. `model.compile_metrics` will be empty until you train or evaluate the model.\n"
     ]
    }
   ],
   "source": [
    "!python main.py neural_network_1.raske"
   ]
  },
  {
   "cell_type": "code",
   "execution_count": 49,
   "metadata": {},
   "outputs": [
    {
     "name": "stdout",
     "output_type": "stream",
     "text": [
      "add_input_layer with input shape:  [2]"
     ]
    },
    {
     "name": "stderr",
     "output_type": "stream",
     "text": [
      "WARNING:tensorflow:Compiled the loaded model, but the compiled metrics have yet to be built. `model.compile_metrics` will be empty until you train or evaluate the model.\n"
     ]
    },
    {
     "name": "stdout",
     "output_type": "stream",
     "text": [
      "\n",
      "add_dense_layer with 64 neurons and activation linear\n",
      "add_dense_layer with 64 neurons and activation linear\n",
      "add_dense_layer with 64 neurons and activation linear\n",
      "add_dense_layer with 64 neurons and activation linear\n",
      "add_dense_layer with 64 neurons and activation linear\n",
      "add_dense_layer with 1 neurons and activation sigmoid\n"
     ]
    }
   ],
   "source": [
    "!python main.py neural_network_2.raske"
   ]
  },
  {
   "cell_type": "code",
   "execution_count": 22,
   "metadata": {},
   "outputs": [
    {
     "name": "stdout",
     "output_type": "stream",
     "text": [
      "add_input_layer with input shape:  [28, 28]\n",
      "add_conv_layer with filters: 4 kernel_size: 4 stride: 1 activation: linear\n",
      "add_conv_layer with filters: 4 kernel_size: 4 stride: 1 activation: linear\n",
      "add_conv_layer with filters: 4 kernel_size: 4 stride: 1 activation: linear\n",
      "add_conv_layer with filters: 4 kernel_size: 4 stride: 1 activation: linear\n",
      "add_flatten_layer\n",
      "add_dense_layer with 64 neurons and activation linear\n",
      "add_dense_layer with 2 neurons and activation softmax\n"
     ]
    },
    {
     "name": "stderr",
     "output_type": "stream",
     "text": [
      "WARNING:tensorflow:Compiled the loaded model, but the compiled metrics have yet to be built. `model.compile_metrics` will be empty until you train or evaluate the model.\n"
     ]
    }
   ],
   "source": [
    "!python main.py neural_network_3.raske"
   ]
  },
  {
   "cell_type": "code",
   "execution_count": 15,
   "metadata": {},
   "outputs": [
    {
     "name": "stdout",
     "output_type": "stream",
     "text": [
      "add_input_layer with input shape:  [128, 128]\n",
      "add_conv_layer with filters: 4 kernel_size: 4 stride: 1 activation: linear\n",
      "add_maxpooling_layer with pool_size: 2\n",
      "add_batch_normalization_layer\n",
      "add_conv_layer with filters: 4 kernel_size: 4 stride: 1 activation: linear\n",
      "add_maxpooling_layer with pool_size: 2\n",
      "add_batch_normalization_layer\n",
      "add_conv_layer with filters: 4 kernel_size: 4 stride: 1 activation: linear\n",
      "add_maxpooling_layer with pool_size: 2\n",
      "add_batch_normalization_layer\n",
      "add_flatten_layer\n",
      "add_dropout_layer with perc_dropout: 0.5\n",
      "add_dense_layer with 64 neurons and activation linear\n",
      "add_dense_layer with 2 neurons and activation softmax\n"
     ]
    },
    {
     "name": "stderr",
     "output_type": "stream",
     "text": [
      "WARNING:tensorflow:Compiled the loaded model, but the compiled metrics have yet to be built. `model.compile_metrics` will be empty until you train or evaluate the model.\n"
     ]
    }
   ],
   "source": [
    "!python main.py neural_network_4.raske"
   ]
  },
  {
   "cell_type": "code",
   "execution_count": 18,
   "metadata": {},
   "outputs": [
    {
     "name": "stdout",
     "output_type": "stream",
     "text": [
      "add_input_layer with input shape:  [128, 128]\n",
      "add_conv_layer with filters: 4 kernel_size: 4 stride: 1 activation: linear\n",
      "add_maxpooling_layer with pool_size: 2\n",
      "add_batch_normalization_layer\n",
      "add_conv_layer with filters: 4 kernel_size: 4 stride: 1 activation: linear\n",
      "add_maxpooling_layer with pool_size: 2\n",
      "add_batch_normalization_layer\n",
      "add_conv_layer with filters: 2 kernel_size: 2 stride: 1 activation: linear\n",
      "add_maxpooling_layer with pool_size: 2\n",
      "add_batch_normalization_layer\n",
      "add_conv_layer with filters: 2 kernel_size: 2 stride: 1 activation: linear\n",
      "add_maxpooling_layer with pool_size: 2\n",
      "add_batch_normalization_layer\n",
      "add_conv_layer with filters: 2 kernel_size: 2 stride: 1 activation: linear\n",
      "add_maxpooling_layer with pool_size: 2\n",
      "add_batch_normalization_layer\n",
      "add_flatten_layer\n",
      "add_dropout_layer with perc_dropout: 0.5\n",
      "add_dense_layer with 64 neurons and activation linear\n",
      "add_dense_layer with 2 neurons and activation softmax\n"
     ]
    },
    {
     "name": "stderr",
     "output_type": "stream",
     "text": [
      "WARNING:tensorflow:Compiled the loaded model, but the compiled metrics have yet to be built. `model.compile_metrics` will be empty until you train or evaluate the model.\n"
     ]
    }
   ],
   "source": [
    "!python main.py neural_network_5.raske"
   ]
  },
  {
   "cell_type": "code",
   "execution_count": 23,
   "metadata": {},
   "outputs": [
    {
     "name": "stdout",
     "output_type": "stream",
     "text": [
      "WARNING:tensorflow:No training configuration found in the save file, so the model was *not* compiled. Compile it manually.\n",
      "WARNING:tensorflow:No training configuration found in the save file, so the model was *not* compiled. Compile it manually.\n",
      "WARNING:tensorflow:No training configuration found in the save file, so the model was *not* compiled. Compile it manually.\n",
      "WARNING:tensorflow:No training configuration found in the save file, so the model was *not* compiled. Compile it manually.\n",
      "WARNING:tensorflow:No training configuration found in the save file, so the model was *not* compiled. Compile it manually.\n"
     ]
    }
   ],
   "source": [
    "model_loaded_1 = keras.models.load_model('neural_network_1.h5')\n",
    "model_loaded_2 = keras.models.load_model('neural_network_2.h5')\n",
    "model_loaded_3 = keras.models.load_model('neural_network_3.h5')\n",
    "model_loaded_4 = keras.models.load_model('neural_network_4.h5')\n",
    "model_loaded_5 = keras.models.load_model('neural_network_5.h5')"
   ]
  },
  {
   "cell_type": "markdown",
   "metadata": {},
   "source": [
    "## Using test\n",
    "\n",
    "Vamos fazer uma tarefa simples de classificação para utilizar a primeira arquitetura aqui citada já utilizando a linguagem raske."
   ]
  },
  {
   "cell_type": "code",
   "execution_count": 50,
   "metadata": {},
   "outputs": [
    {
     "name": "stdout",
     "output_type": "stream",
     "text": [
      "Overwriting neural_network_2.raske\n"
     ]
    }
   ],
   "source": [
    "%%writefile neural_network_2.raske\n",
    "neural_network{\n",
    "    add_input_layer(2)\n",
    "    local i = 0\n",
    "    while (i < 5){\n",
    "        add_dense_layer(64, linear)\n",
    "        i = i + 1\n",
    "    }\n",
    "    add_dense_layer(1, sigmoid)\n",
    "}"
   ]
  },
  {
   "cell_type": "code",
   "execution_count": 51,
   "metadata": {},
   "outputs": [
    {
     "name": "stdout",
     "output_type": "stream",
     "text": [
      "add_input_layer with input shape:  [2]\n",
      "add_dense_layer with 64 neurons and activation linear\n",
      "add_dense_layer with 64 neurons and activation linear\n",
      "add_dense_layer with 64 neurons and activation linear\n",
      "add_dense_layer with 64 neurons and activation linear\n",
      "add_dense_layer with 64 neurons and activation linear\n",
      "add_dense_layer with 1 neurons and activation sigmoid\n"
     ]
    },
    {
     "name": "stderr",
     "output_type": "stream",
     "text": [
      "WARNING:tensorflow:Compiled the loaded model, but the compiled metrics have yet to be built. `model.compile_metrics` will be empty until you train or evaluate the model.\n"
     ]
    }
   ],
   "source": [
    "!python main.py neural_network_2.raske"
   ]
  },
  {
   "cell_type": "markdown",
   "metadata": {},
   "source": [
    "## Visualização\n",
    "\n",
    "Nosso compilador está gerando 3 arquivos e um log sequencial da criação da rede:\n",
    "- ``neural_network_2.h5`` : Arquivo que contém os pesos da rede neural.\n",
    "- ``neural_network_2.png`` : Arquivo que contém a visualização da rede neural.\n",
    "- ``neural_network_2.summary`` : Arquivo que contém um resumo da rede neural.\n",
    "\n",
    "Para o caso executado acima, a rede neural gerada foi a seguinte:\n",
    "\n",
    "- add_input_layer with input shape:  [2]\n",
    "- add_dense_layer with 64 neurons and activation linear\n",
    "- add_dense_layer with 64 neurons and activation linear\n",
    "- add_dense_layer with 64 neurons and activation linear\n",
    "- add_dense_layer with 64 neurons and activation linear\n",
    "- add_dense_layer with 64 neurons and activation linear\n",
    "- add_dense_layer with 64 neurons and activation linear\n",
    "- add_dense_layer with 1 neurons and activation sigmoid\n",
    "\n",
    "O que pode ser evidenciado pela seguinte figura:\n",
    "\n",
    "![neural_network_2.png](neural_network_2.png)\n",
    "\n"
   ]
  },
  {
   "cell_type": "markdown",
   "metadata": {},
   "source": [
    "## Importando Neural Network com o arquivo .h5\n",
    "\n",
    "Agora vamos utilizar o keras para importar o arquivo .h5 e detalhar o problema de regressão que vamos resolver."
   ]
  },
  {
   "cell_type": "code",
   "execution_count": 61,
   "metadata": {},
   "outputs": [
    {
     "name": "stdout",
     "output_type": "stream",
     "text": [
      "WARNING:tensorflow:No training configuration found in the save file, so the model was *not* compiled. Compile it manually.\n"
     ]
    }
   ],
   "source": [
    "loaded_model = keras.models.load_model('neural_network_2.h5')"
   ]
  },
  {
   "cell_type": "markdown",
   "metadata": {},
   "source": [
    "## Gerando dados"
   ]
  },
  {
   "cell_type": "code",
   "execution_count": 53,
   "metadata": {},
   "outputs": [],
   "source": [
    "import numpy as np\n",
    "import pandas as pd\n",
    "import matplotlib.pyplot as plt\n",
    "\n",
    "# estilo\n",
    "plt.style.use('dark_background')\n",
    "plt.rcParams['axes.facecolor'] = '#26262e' "
   ]
  },
  {
   "cell_type": "code",
   "execution_count": 54,
   "metadata": {},
   "outputs": [],
   "source": [
    "# Fake data\n",
    "x_lim, y_lim = 800, 450\n",
    "\n",
    "pairs = np.array([[x_lim * np.random.random(), y_lim * np.random.random()] for i in range(1000)])\n",
    "\n",
    "z = np.zeros_like(pairs[:, 0])\n",
    "\n",
    "pairs_true = []\n",
    "pairs_false = []\n",
    "for pair in pairs:\n",
    "    x, y = pair\n",
    "    if x - 3 * y < 0:\n",
    "        pairs_true.append([x, y])\n",
    "    else:\n",
    "        pairs_false.append([x, y])\n",
    "pairs_true = np.array(pairs_true)\n",
    "pairs_false = np.array(pairs_false)"
   ]
  },
  {
   "cell_type": "code",
   "execution_count": 55,
   "metadata": {},
   "outputs": [
    {
     "data": {
      "image/png": "[encoded data removed]",
      "text/plain": [
       "<Figure size 640x480 with 1 Axes>"
      ]
     },
     "metadata": {},
     "output_type": "display_data"
    }
   ],
   "source": [
    "plt.plot(pairs_true[:, 0], pairs_true[:, 1], '.', c='#1AD59E')\n",
    "plt.plot(pairs_false[:, 0], pairs_false[:, 1], 'r.')\n",
    "plt.axis('off')\n",
    "plt.title('Real data');"
   ]
  },
  {
   "cell_type": "markdown",
   "metadata": {},
   "source": [
    "Nosso problema de classificação: Dados 2 valores, queremos classificar em 2 classes (0 ou 1 / verde ou vermelho)."
   ]
  },
  {
   "cell_type": "code",
   "execution_count": 56,
   "metadata": {},
   "outputs": [],
   "source": [
    "pairs_true_label = np.append(pairs_true, np.ones_like(pairs_true[:, 0]).reshape(-1, 1), axis=1)\n",
    "pairs_false_label = np.append(pairs_false, np.zeros_like(pairs_false[:, 0]).reshape(-1, 1), axis=1)\n",
    "\n",
    "full_pairs_label = np.append(pairs_true_label, pairs_false_label, axis=0)"
   ]
  },
  {
   "cell_type": "code",
   "execution_count": 57,
   "metadata": {},
   "outputs": [],
   "source": [
    "from sklearn.model_selection import train_test_split\n",
    "\n",
    "X_train, X_test, y_train, y_test = train_test_split(full_pairs_label[:, :2], full_pairs_label[:, -1], test_size=0.2, random_state=42, stratify=full_pairs_label[:, -1])"
   ]
  },
  {
   "cell_type": "code",
   "execution_count": 62,
   "metadata": {},
   "outputs": [],
   "source": [
    "'''\n",
    "\n",
    "Compilando modelo que veio da .raske\n",
    "\n",
    "'''\n",
    "\n",
    "loaded_model.compile(\n",
    "    optimizer='adam',\n",
    "    loss=keras.losses.binary_crossentropy,\n",
    "    metrics='accuracy'\n",
    ")"
   ]
  },
  {
   "cell_type": "code",
   "execution_count": 63,
   "metadata": {},
   "outputs": [
    {
     "name": "stdout",
     "output_type": "stream",
     "text": [
      "Epoch 1/15\n",
      "20/20 [==============================] - 1s 14ms/step - loss: 4.5727 - accuracy: 0.9062 - val_loss: 0.3627 - val_accuracy: 0.9750\n",
      "Epoch 2/15\n",
      "20/20 [==============================] - 0s 6ms/step - loss: 0.3213 - accuracy: 0.9734 - val_loss: 0.2055 - val_accuracy: 0.9750\n",
      "Epoch 3/15\n",
      "20/20 [==============================] - 0s 7ms/step - loss: 0.0224 - accuracy: 0.9937 - val_loss: 0.1287 - val_accuracy: 0.9812\n",
      "Epoch 4/15\n",
      "20/20 [==============================] - 0s 6ms/step - loss: 0.0163 - accuracy: 0.9969 - val_loss: 0.0754 - val_accuracy: 0.9875\n",
      "Epoch 5/15\n",
      "20/20 [==============================] - 0s 5ms/step - loss: 0.0902 - accuracy: 0.9844 - val_loss: 0.1253 - val_accuracy: 0.9812\n",
      "Epoch 6/15\n",
      "20/20 [==============================] - 0s 5ms/step - loss: 0.0172 - accuracy: 0.9984 - val_loss: 0.0224 - val_accuracy: 0.9875\n",
      "Epoch 7/15\n",
      "20/20 [==============================] - 0s 5ms/step - loss: 0.0298 - accuracy: 0.9953 - val_loss: 0.0408 - val_accuracy: 0.9875\n",
      "Epoch 8/15\n",
      "20/20 [==============================] - 0s 5ms/step - loss: 0.0421 - accuracy: 0.9906 - val_loss: 0.4186 - val_accuracy: 0.9750\n",
      "Epoch 9/15\n",
      "20/20 [==============================] - 0s 5ms/step - loss: 0.1331 - accuracy: 0.9891 - val_loss: 0.3593 - val_accuracy: 0.9750\n",
      "Epoch 10/15\n",
      "20/20 [==============================] - 0s 5ms/step - loss: 0.3898 - accuracy: 0.9703 - val_loss: 0.2651 - val_accuracy: 0.9750\n",
      "Epoch 11/15\n",
      "20/20 [==============================] - 0s 5ms/step - loss: 0.0950 - accuracy: 0.9875 - val_loss: 0.4507 - val_accuracy: 0.9750\n",
      "Epoch 12/15\n",
      "20/20 [==============================] - 0s 5ms/step - loss: 0.2100 - accuracy: 0.9797 - val_loss: 0.0926 - val_accuracy: 0.9875\n",
      "Epoch 13/15\n",
      "20/20 [==============================] - 0s 5ms/step - loss: 0.0121 - accuracy: 0.9953 - val_loss: 0.0033 - val_accuracy: 1.0000\n",
      "Epoch 14/15\n",
      "20/20 [==============================] - 0s 4ms/step - loss: 0.1421 - accuracy: 0.9859 - val_loss: 0.3288 - val_accuracy: 0.9750\n",
      "Epoch 15/15\n",
      "20/20 [==============================] - 0s 4ms/step - loss: 0.0803 - accuracy: 0.9922 - val_loss: 0.0064 - val_accuracy: 1.0000\n"
     ]
    }
   ],
   "source": [
    "history = loaded_model.fit(\n",
    "    X_train, y_train,\n",
    "    validation_split=0.2,\n",
    "    epochs=15\n",
    ")"
   ]
  },
  {
   "cell_type": "code",
   "execution_count": 64,
   "metadata": {},
   "outputs": [
    {
     "name": "stdout",
     "output_type": "stream",
     "text": [
      "7/7 [==============================] - 0s 4ms/step - loss: 5.6134e-04 - accuracy: 1.0000\n"
     ]
    },
    {
     "data": {
      "text/plain": [
       "[0.0005613433313556015, 1.0]"
      ]
     },
     "execution_count": 64,
     "metadata": {},
     "output_type": "execute_result"
    }
   ],
   "source": [
    "loaded_model.evaluate(X_test, y_test)"
   ]
  },
  {
   "cell_type": "markdown",
   "metadata": {},
   "source": [
    "## Conclusão:\n",
    "\n",
    "Podemos dissociar a criação da rede neural da sua utilização, o que pode ser muito útil para a reutilização de redes neurais em diferentes aplicações."
   ]
  }
 ],
 "metadata": {
  "kernelspec": {
   "display_name": "Python 3",
   "language": "python",
   "name": "python3"
  },
  "language_info": {
   "codemirror_mode": {
    "name": "ipython",
    "version": 3
   },
   "file_extension": ".py",
   "mimetype": "text/x-python",
   "name": "python",
   "nbconvert_exporter": "python",
   "pygments_lexer": "ipython3",
   "version": "3.9.13"
  }
 },
 "nbformat": 4,
 "nbformat_minor": 2
}
